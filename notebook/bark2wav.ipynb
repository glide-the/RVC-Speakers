{
 "cells": [
  {
   "cell_type": "code",
   "execution_count": 1,
   "id": "a185abc4-3a0a-43ec-9688-171b2bc7157b",
   "metadata": {
    "tags": []
   },
   "outputs": [
    {
     "name": "stderr",
     "output_type": "stream",
     "text": [
      "/media/gpt4-pdf-chatbot-langchain/pyenv-test-1/lib/python3.10/site-packages/tqdm/auto.py:21: TqdmWarning: IProgress not found. Please update jupyter and ipywidgets. See https://ipywidgets.readthedocs.io/en/stable/user_install.html\n",
      "  from .autonotebook import tqdm as notebook_tqdm\n"
     ]
    }
   ],
   "source": [
    "import os\n",
    "os.environ[\"XDG_CACHE_HOME\"] = \"/media/checkpoint/bark/\" \n",
    "from bark import SAMPLE_RATE, generate_audio, preload_models\n",
    "from scipy.io.wavfile import write as write_wav\n",
    "from IPython.display import Audio"
   ]
  },
  {
   "cell_type": "code",
   "execution_count": 2,
   "id": "d1650fbd-f1be-4a04-b03a-275910e2b08f",
   "metadata": {
    "tags": []
   },
   "outputs": [],
   "source": [
    "# download and load all models\n",
    "preload_models()\n"
   ]
  },
  {
   "cell_type": "code",
   "execution_count": 3,
   "id": "c6b63587-7cc0-42a4-84b6-294301a3e0a4",
   "metadata": {
    "tags": []
   },
   "outputs": [],
   "source": [
    "import nltk  # we'll use this to split into sentences\n",
    "import numpy as np\n",
    " \n",
    "\"\"\"\n",
    "\n",
    "             \"双方选手都迅速调整了自己的站位，[laughter]准备展开激烈的交战。\"\n",
    "            \"注意-，卡特琳娜正在悄悄地绕到了对手的背后，[laughter]看来她准备给予对方一个毫不留情的偷袭！\",\n",
    "            \"而此时，双方的蓝色能量已经达到巅峰状态[laughter]，紧张的氛围弥漫在空中。一波高超的技能瞬间释放[laughter]，火花四溅，仿佛烈焰交织。\"\n",
    "\n",
    "   \"卡特琳娜巧妙的背后行动发挥了巨大作用，她的技能组合瞬间爆发，红色方的英雄们陷入了危机之中！眼看红方选手们的生命值已经接近斩杀线，局势岌岌可危。\",\n",
    "  \"红色方队伍虽然艰难地支撑着局面，但是红色方的艾克已经在战斗中英勇牺牲，盖伦也不敌敌手被击溃。就像那句古话说的好，“屋漏偏逢连夜雨”，而此时蓝色方的扇子妈悍然施展最后的绝招，将红色方的胜利希望彻底摧毁。\",\n",
    "  \"此刻的战局已经是蓝色方占据了7比2的绝对优势，胜利的果实几乎近在咫尺。随着红色方的锤石倒下，比赛也渐渐走向了尾声。\",\n",
    "  \"让我们再来看看红色方的刀妹吧！众所周知，刀妹作为一位传奇英雄，曾经创造了无数的传奇战绩。但她似乎在这场比赛中有些力不从心，局面对她来说并不太妙。让我们一起感受一下现场的原汁原味吧！\"\n",
    "\n",
    "\"\"\"\n",
    "\n",
    "    \n",
    "sentences = [\"现在 [laughs-]... 我要为大家呈现一场扣人心弦的决赛对决！比赛一开始，\",            ]\n",
    "\n"
   ]
  },
  {
   "cell_type": "code",
   "execution_count": 4,
   "id": "88f295b1-334c-4c5a-b6e5-0d24a803cdff",
   "metadata": {
    "tags": []
   },
   "outputs": [
    {
     "data": {
      "text/plain": [
       "['现在 [laughs-]... 我要为大家呈现一场扣人心弦的决赛对决！比赛一开始，']"
      ]
     },
     "execution_count": 4,
     "metadata": {},
     "output_type": "execute_result"
    }
   ],
   "source": [
    "sentences"
   ]
  },
  {
   "cell_type": "code",
   "execution_count": 28,
   "id": "a7f435a7-60b9-4055-9766-ec41df94a627",
   "metadata": {
    "tags": []
   },
   "outputs": [
    {
     "name": "stderr",
     "output_type": "stream",
     "text": [
      "100%|███████████████████████████████████████████████████████████████████████████████████████████████████████████████| 600/600 [00:05<00:00, 108.37it/s]\n",
      "100%|██████████████████████████████████████████████████████████████████████████████████████████████████████████████████| 31/31 [00:16<00:00,  1.86it/s]\n"
     ]
    }
   ],
   "source": [
    "# Set up sample rate\n",
    "SAMPLE_RATE = 22050 \n",
    "SPEAKER = \"zh_speaker_2\"\n",
    "silence = np.zeros(int(0.25 * SAMPLE_RATE))  # quarter second of silence\n",
    "\n",
    "pieces = []\n",
    "\n",
    "#提示说话人应该说什么话，趋近于1，提示词特殊标记越明显\n",
    "text_temp=1\n",
    "#说话人紧张程度，趋近与1讲话越流畅，越接近与0，讲话人的声音听起来旁边有很多人，畏首畏尾\n",
    "waveform_temp=0.9\n",
    "\n",
    "for sentence in sentences:\n",
    "    audio_array = generate_audio(sentence, history_prompt=SPEAKER, text_temp=1, \n",
    "                                                    waveform_temp=waveform_temp, fine_temp=0.9)\n",
    "    pieces += [audio_array, silence.copy()]\n",
    " "
   ]
  },
  {
   "cell_type": "code",
   "execution_count": 29,
   "id": "64094940-5914-484f-9423-8e88c67ff0a3",
   "metadata": {
    "tags": []
   },
   "outputs": [],
   "source": [
    "\n",
    "i = 0\n",
    "for piece in pieces:\n",
    "    # save audio to disk\n",
    "    write_wav(f\"bark_generation_{i}.wav\", SAMPLE_RATE, piece)\n",
    "    i=i+1\n",
    " "
   ]
  },
  {
   "cell_type": "code",
   "execution_count": null,
   "id": "16417fb0-df10-4155-9276-7c0f31ee193b",
   "metadata": {},
   "outputs": [],
   "source": []
  },
  {
   "cell_type": "code",
   "execution_count": null,
   "id": "61325399-ede1-44bd-b383-2235c243473e",
   "metadata": {},
   "outputs": [],
   "source": []
  }
 ],
 "metadata": {
  "kernelspec": {
   "display_name": "Python 3 (ipykernel)",
   "language": "python",
   "name": "python3"
  },
  "language_info": {
   "codemirror_mode": {
    "name": "ipython",
    "version": 3
   },
   "file_extension": ".py",
   "mimetype": "text/x-python",
   "name": "python",
   "nbconvert_exporter": "python",
   "pygments_lexer": "ipython3",
   "version": "3.10.9"
  }
 },
 "nbformat": 4,
 "nbformat_minor": 5
}
