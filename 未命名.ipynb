{
 "cells": [
  {
   "cell_type": "code",
   "execution_count": 3,
   "id": "d7f9f65b-1746-4af2-8b20-3a34b2ef730f",
   "metadata": {
    "tags": []
   },
   "outputs": [],
   "source": [
    "\n",
    "from manim import *\n",
    "import sympy as sp"
   ]
  },
  {
   "cell_type": "code",
   "execution_count": 6,
   "id": "882f5564-d2d4-4055-9508-a0a07effc419",
   "metadata": {
    "tags": []
   },
   "outputs": [
    {
     "name": "stderr",
     "output_type": "stream",
     "text": [
      "                                                                                                                                                       \r"
     ]
    },
    {
     "data": {
      "text/html": [
       "<video src=\"media/jupyter/SumAnimation@2023-08-11@12-20-22.mp4\" controls autoplay loop style=\"max-width: 60%;\"  >\n",
       "      Your browser does not support the <code>video</code> element.\n",
       "    </video>"
      ],
      "text/plain": [
       "<IPython.core.display.Video object>"
      ]
     },
     "metadata": {},
     "output_type": "display_data"
    }
   ],
   "source": [
    "\n",
    "%%manim -qm -v WARNING SumAnimation\n",
    "\n",
    "\n",
    "\n",
    "class SumAnimation(Scene):\n",
    "    def construct(self):\n",
    "        sum_expression = MathTex(r\"\\sum_{N=1}^{12} (0.6 + N)\")\n",
    "        self.play(Write(sum_expression))\n",
    "        self.wait(1)\n",
    "\n",
    "        N = sp.symbols('N')\n",
    "        sum_formula = 0.6 + N\n",
    "        sum_value = sum([sum_formula.subs(N, n) for n in range(1, 13)])\n",
    "        sum_result = MathTex(r\"= {:.1f}\".format(sum_value.evalf()))\n",
    "        self.play(Transform(sum_expression, sum_result))\n",
    "        self.wait(2)\n"
   ]
  },
  {
   "cell_type": "code",
   "execution_count": 13,
   "id": "f31bec03-1935-4cdc-a4c8-c8d2fdbe7d72",
   "metadata": {
    "tags": []
   },
   "outputs": [
    {
     "name": "stderr",
     "output_type": "stream",
     "text": [
      "                                                                                                                                                       \r"
     ]
    },
    {
     "data": {
      "text/html": [
       "<video src=\"media/jupyter/SumCalculation@2023-08-11@12-29-38.mp4\" controls autoplay loop style=\"max-width: 60%;\"  >\n",
       "      Your browser does not support the <code>video</code> element.\n",
       "    </video>"
      ],
      "text/plain": [
       "<IPython.core.display.Video object>"
      ]
     },
     "metadata": {},
     "output_type": "display_data"
    }
   ],
   "source": [
    "%%manim -qm -v WARNING SumCalculation\n",
    "\n",
    "from manim import *\n",
    "import sympy as sp\n",
    "\n",
    "class SumCalculation(Scene):\n",
    "    def construct(self):\n",
    "        # Step 1\n",
    "        step_1 = Tex(r\"Step 1: Set initial value \\(N = 12\\)\")\n",
    "        step_1.to_corner(UL)\n",
    "        self.play(Write(step_1))\n",
    "        self.wait(1)\n",
    "\n",
    "        # Step 2\n",
    "        step_2 = Tex(r\"Step 2: Calculate \\(\\sum_{N=1}^{12} (0.6 + N)\\)\")\n",
    "        step_2.next_to(step_1, DOWN, buff=0.5)\n",
    "        self.play(Transform(step_1, step_2))\n",
    "        self.wait(1)\n",
    "\n",
    "        # Step 3\n",
    "        step_3 = Tex(r\"Step 3: Result is \\(85.2\\)\")\n",
    "        step_3.next_to(step_2, DOWN, buff=0.5)\n",
    "        self.play(Transform(step_2, step_3))\n",
    "        self.wait(2)\n",
    "\n",
    "        # Calculate sum using Python calculation library\n",
    "        sum_expression = MathTex(r\"\\sum_{N=1}^{12} (0.6 + N)\")\n",
    "        sum_expression.next_to(step_3, DOWN, buff=0.5)\n",
    "        self.play(Write(sum_expression))\n",
    "        self.wait(1)\n",
    "\n",
    "        N = sp.symbols('N')\n",
    "        sum_formula = 0.6 + N\n",
    "        result = sum([sum_formula.subs(N, n).evalf() for n in range(1, 13)])\n",
    "        sum_result = MathTex(r\"= {:.1f}\".format(result))\n",
    "        sum_result.next_to(sum_expression, DOWN, buff=0.5)\n",
    "        self.play(Transform(sum_expression, sum_result))\n",
    "        self.wait(2)\n",
    "\n",
    "\n",
    "\n"
   ]
  },
  {
   "cell_type": "code",
   "execution_count": 17,
   "id": "d9ad9a96-5561-41a9-96ed-0f3ec4bdf5f8",
   "metadata": {
    "tags": []
   },
   "outputs": [
    {
     "name": "stderr",
     "output_type": "stream",
     "text": [
      "                                                                                                                                                       \r"
     ]
    },
    {
     "data": {
      "text/html": [
       "<video src=\"media/jupyter/SumCalculation@2023-08-11@12-34-22.mp4\" controls autoplay loop style=\"max-width: 60%;\"  >\n",
       "      Your browser does not support the <code>video</code> element.\n",
       "    </video>"
      ],
      "text/plain": [
       "<IPython.core.display.Video object>"
      ]
     },
     "metadata": {},
     "output_type": "display_data"
    }
   ],
   "source": [
    "%%manim -qm -v WARNING SumCalculation\n",
    "\n",
    "from manim import *\n",
    "import sympy as sp\n",
    "\n",
    "class SumCalculation(Scene):\n",
    "    def construct(self):\n",
    "        # Step 1\n",
    "        step_1 = Tex(r\"Step 1: Set initial value \\(N = 12\\)\")\n",
    "        step_1.to_corner(UL)\n",
    "        self.play(Write(step_1))\n",
    "        self.wait(1)\n",
    "\n",
    "        # Step 2\n",
    "        step_2 = Tex(r\"Step 2: Calculate \\(\\sum_{N=1}^{12} (0.6 + N)\\)\")\n",
    "        step_2.next_to(step_1, DOWN, buff=0.5)\n",
    "        self.play(Transform(step_1, step_2))\n",
    "        self.wait(1)\n",
    "\n",
    "        # Step 3\n",
    "        step_3 = Tex(r\"Step 3: Result is \\(85.2\\)\")\n",
    "        step_3.next_to(step_2, DOWN, buff=0.5)\n",
    "        self.play(Transform(step_2, step_3))\n",
    "        self.wait(2)\n",
    "\n",
    "        # Calculate sum using Python calculation library\n",
    "        calculation_text = Tex(r\"Calculate \\(\\sum_{N=1}^{12} (0.6 + N)\\)\")\n",
    "        calculation_text.next_to(step_3, DOWN, buff=0.5)\n",
    "        self.play(Transform(step_3, calculation_text))\n",
    "        self.wait(1)\n",
    "\n",
    "        N = sp.symbols('N')\n",
    "        sum_formula = 0.6 + N\n",
    "        N_expression = MathTex(\"N =\", \" 1, 2, \\ldots, 12\", tex_to_color_map={\"N\": YELLOW})\n",
    "        N_expression.next_to(calculation_text, DOWN)\n",
    "        self.play(Transform(calculation_text, N_expression))\n",
    "        self.wait(1)\n",
    "\n",
    "        sum_expression = MathTex(r\"\\sum_{N=1}^{12} (0.6 + N)\")\n",
    "        sum_result = MathTex(r\"= {:.1f}\".format(sum([sum_formula.subs(N, n).evalf() for n in range(1, 13)])))\n",
    "        sum_group = VGroup(sum_expression, sum_result)\n",
    "        sum_group.arrange(DOWN, buff=0.5)\n",
    "        sum_group.next_to(N_expression, DOWN, buff=0.5)\n",
    "        self.play(Transform(N_expression, sum_group))\n",
    "        self.wait(2)\n",
    "\n"
   ]
  },
  {
   "cell_type": "code",
   "execution_count": 22,
   "id": "843ecd98-cbfd-4c60-ac87-d5320c8af6be",
   "metadata": {
    "tags": []
   },
   "outputs": [
    {
     "name": "stderr",
     "output_type": "stream",
     "text": [
      "                                                                                                                                                       \r"
     ]
    },
    {
     "data": {
      "text/html": [
       "<video src=\"media/jupyter/SumCalculation@2023-08-11@13-09-26.mp4\" controls autoplay loop style=\"max-width: 60%;\"  >\n",
       "      Your browser does not support the <code>video</code> element.\n",
       "    </video>"
      ],
      "text/plain": [
       "<IPython.core.display.Video object>"
      ]
     },
     "metadata": {},
     "output_type": "display_data"
    }
   ],
   "source": [
    "%%manim -qm -v WARNING SumCalculation\n",
    "from manim import *\n",
    "import sympy as sp\n",
    "\n",
    "class SumCalculation(Scene):\n",
    "    def construct(self):\n",
    "        # Step 1\n",
    "        step_1 = Tex(r\"Step 1: Set initial value \\(N = 12\\)\")\n",
    "        step_1.to_corner(UL)\n",
    "        self.play(Write(step_1))\n",
    "        self.wait(1)\n",
    "\n",
    "        # Step 2\n",
    "        step_2 = Tex(r\"Step 2: Calculate \\(\\sum_{N=1}^{12} (0.6 \\cdot N)\\)\")\n",
    "        step_2.next_to(step_1, DOWN, buff=0.3)\n",
    "        self.play(Transform(step_1, step_2))\n",
    "        self.wait(1)\n",
    "\n",
    "        # Calculate sum using Python calculation library\n",
    "        N = sp.symbols('N')\n",
    "        sum_formula = 0.6 * N\n",
    "        result = sum([sum_formula.subs(N, n).evalf() for n in range(1, 13)])\n",
    "\n",
    "        # Step 3 (with calculated result)\n",
    "        step_3 = Tex(f\"Step 3: Result is {result:.1f}\")\n",
    "        step_3.next_to(step_2, DOWN, buff=0.1)\n",
    "        self.play(Transform(step_2, step_3))\n",
    "        self.wait(2)\n",
    "\n",
    "        # Display rest of the steps\n",
    "        calculation_text = Tex(r\"Calculate \\(\\sum_{N=1}^{12} (0.6 \\cdot N)\\)\")\n",
    "        calculation_text.next_to(step_3, DOWN, buff=0.2)\n",
    "        self.play(Transform(step_3, calculation_text))\n",
    "        self.wait(1)\n",
    "\n",
    "        N_expression = MathTex(\"N =\", \" 1, 2, \\ldots, 12\", tex_to_color_map={\"N\": YELLOW})\n",
    "        N_expression.next_to(calculation_text, DOWN)\n",
    "        self.play(Transform(calculation_text, N_expression))\n",
    "        self.wait(1)\n",
    "\n",
    "        sum_expression = MathTex(r\"\\sum_{N=1}^{12} (0.6 \\cdot N)\")\n",
    "        sum_result = MathTex(r\"= {:.1f}\".format(result))\n",
    "        sum_group = VGroup(sum_expression, sum_result)\n",
    "        sum_group.arrange(DOWN, buff=0.2)\n",
    "        sum_group.next_to(N_expression, DOWN, buff=0.1)\n",
    "        self.play(Transform(N_expression, sum_group))\n",
    "        self.wait(2)\n",
    "\n"
   ]
  },
  {
   "cell_type": "code",
   "execution_count": null,
   "id": "06c44f7b-e98e-4658-9d57-0d133eecfd88",
   "metadata": {},
   "outputs": [],
   "source": []
  }
 ],
 "metadata": {
  "kernelspec": {
   "display_name": "Python 3 (ipykernel)",
   "language": "python",
   "name": "python3"
  },
  "language_info": {
   "codemirror_mode": {
    "name": "ipython",
    "version": 3
   },
   "file_extension": ".py",
   "mimetype": "text/x-python",
   "name": "python",
   "nbconvert_exporter": "python",
   "pygments_lexer": "ipython3",
   "version": "3.10.9"
  }
 },
 "nbformat": 4,
 "nbformat_minor": 5
}
